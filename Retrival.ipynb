{
  "cells": [
    {
      "cell_type": "markdown",
      "metadata": {
        "id": "A7rh8hFC_S58"
      },
      "source": [
        "# Teste de embeddings na recuperação de texto com Chroma"
      ]
    },
    {
      "cell_type": "markdown",
      "metadata": {
        "id": "t7yjMgP5m44G"
      },
      "source": [
        "# Carregar dataSet"
      ]
    },
    {
      "cell_type": "code",
      "execution_count": null,
      "metadata": {
        "id": "9Gt2nLObm6W8"
      },
      "outputs": [],
      "source": [
        "!pip install huggingface_hub datasets\n",
        "!pip install langchain"
      ]
    },
    {
      "cell_type": "code",
      "execution_count": 2,
      "metadata": {
        "id": "XVH4OypQBL4M"
      },
      "outputs": [],
      "source": [
        "from langchain.document_loaders import HuggingFaceDatasetLoader\n",
        "\n",
        "dataset_name = \"squad_v1_pt\"\n",
        "page_content_column = \"context\"\n",
        "\n",
        "\n",
        "loader = HuggingFaceDatasetLoader(dataset_name, page_content_column)"
      ]
    },
    {
      "cell_type": "code",
      "execution_count": null,
      "metadata": {
        "id": "Nf4SyYM6ksVn"
      },
      "outputs": [],
      "source": [
        "!pip install datasets"
      ]
    },
    {
      "cell_type": "code",
      "execution_count": null,
      "metadata": {
        "id": "yTbqGhc5kygr"
      },
      "outputs": [],
      "source": [
        "from datasets import load_dataset\n",
        "\n",
        "dataset = load_dataset(dataset_name, split=\"validation\")"
      ]
    },
    {
      "cell_type": "code",
      "execution_count": null,
      "metadata": {
        "id": "5U63k0bWmPab"
      },
      "outputs": [],
      "source": [
        "for i in range(5):\n",
        "  print(dataset[i][\"context\"])"
      ]
    },
    {
      "cell_type": "code",
      "execution_count": 6,
      "metadata": {
        "id": "XLFP2ibvOdiP"
      },
      "outputs": [],
      "source": [
        "from langchain.schema import Document\n",
        "\n",
        "contextos = [Document(page_content = x[\"context\"], metadata= {\"length\": len(x[\"context\"])}) for x in dataset]"
      ]
    },
    {
      "cell_type": "code",
      "execution_count": 7,
      "metadata": {
        "id": "li19pTxBn-4A"
      },
      "outputs": [],
      "source": [
        "def remove_duplicates(documents):\n",
        "    unique_documents = set()\n",
        "    result = []\n",
        "\n",
        "    for document in documents:\n",
        "        if document.page_content not in unique_documents:\n",
        "            result.append(document)\n",
        "            unique_documents.add(document.page_content)\n",
        "\n",
        "    return result"
      ]
    },
    {
      "cell_type": "code",
      "execution_count": 8,
      "metadata": {
        "id": "iogJ_hkIPtVL"
      },
      "outputs": [],
      "source": [
        "contextos = remove_duplicates(contextos)"
      ]
    },
    {
      "cell_type": "markdown",
      "metadata": {
        "id": "gusibSRIDJVz"
      },
      "source": [
        "# Fazer o split"
      ]
    },
    {
      "cell_type": "code",
      "execution_count": null,
      "metadata": {
        "id": "7BLu-p0rcPgm"
      },
      "outputs": [],
      "source": [
        "!pip install nltk"
      ]
    },
    {
      "cell_type": "code",
      "execution_count": null,
      "metadata": {
        "id": "zLGWfVB4dqsI"
      },
      "outputs": [],
      "source": [
        "import nltk\n",
        "\n",
        "nltk.download('punkt')"
      ]
    },
    {
      "cell_type": "code",
      "execution_count": 59,
      "metadata": {
        "id": "1GQt_NdFcbrW"
      },
      "outputs": [],
      "source": [
        "from nltk.tokenize import word_tokenize\n",
        "\n",
        "def count_words(input_string):\n",
        "    words = word_tokenize(input_string)\n",
        "    return len(words)"
      ]
    },
    {
      "cell_type": "code",
      "execution_count": 9,
      "metadata": {
        "id": "s3JvvpCPDLhk"
      },
      "outputs": [],
      "source": [
        "from langchain.text_splitter import RecursiveCharacterTextSplitter\n",
        "\n",
        "text_splitter = RecursiveCharacterTextSplitter(\n",
        "    chunk_size = 512,\n",
        "    chunk_overlap  = 1,\n",
        "    length_function = len,\n",
        "    is_separator_regex = False,\n",
        ")"
      ]
    },
    {
      "cell_type": "code",
      "execution_count": 10,
      "metadata": {
        "id": "IAzbZQiDchlp"
      },
      "outputs": [],
      "source": [
        "texts = text_splitter.split_documents(contextos)"
      ]
    },
    {
      "cell_type": "code",
      "execution_count": null,
      "metadata": {
        "id": "yxNDAn24WkQe"
      },
      "outputs": [],
      "source": [
        "for i in range(5):\n",
        "  print(texts[i].page_content)\n",
        "  print()"
      ]
    },
    {
      "cell_type": "markdown",
      "metadata": {
        "id": "stko1OE-DFRy"
      },
      "source": [
        "# Persistir os dados"
      ]
    },
    {
      "cell_type": "code",
      "execution_count": 12,
      "metadata": {
        "id": "mzEyyRqWDB9d"
      },
      "outputs": [
        {
          "name": "stdout",
          "output_type": "stream",
          "text": [
            "\u001b[K     |████████████████████████████████| 731.7 MB 33 kB/s  eta 0:00:013                | 164.2 MB 1.1 MB/s eta 0:08:19               | 213.9 MB 9.6 MB/s eta 0:00:55��███████                    | 272.3 MB 276 kB/s eta 0:27:40��████████▏                   | 278.5 MB 8.3 MB/s eta 0:00:55███████████████▊                | 358.6 MB 6.1 MB/s eta 0:01:02��█████▎               | 372.5 MB 4.3 MB/s eta 0:01:239 MB 4.3 MB/s eta 0:01:23     |████████████████▋               | 380.1 MB 10.6 MB/s eta 0:00:34 |████████████████▊               | 381.6 MB 10.6 MB/s eta 0:00:33��██████               | 388.0 MB 3.3 MB/s eta 0:01:444 MB 3.3 MB/s eta 0:01:44     |██████████████████▍             | 421.1 MB 5.4 MB/s eta 0:00:58��█▍            | 443.6 MB 12.2 MB/s eta 0:00:24�███████▊            | 452.1 MB 709 kB/s eta 0:06:35�████████▊           | 474.0 MB 6.8 MB/s eta 0:00:39�█████████           | 478.0 MB 6.8 MB/s eta 0:00:38     |█████████████████████▍          | 488.6 MB 6.9 MB/s eta 0:00:36█████████████████▋          | 495.4 MB 7.1 MB/s eta 0:00:34��█████████▊          | 495.8 MB 7.1 MB/s eta 0:00:34█▌         | 513.9 MB 3.8 MB/s eta 0:00:57  |███████████████████████▌        | 536.8 MB 6.5 MB/s eta 0:00:30██████▍       | 556.5 MB 2.4 MB/s eta 0:01:12     |████████████████████████▌       | 559.3 MB 6.3 MB/s eta 0:00:28��█████████████████       | 570.2 MB 9.2 MB/s eta 0:00:18████████▎   | 646.4 MB 6.8 MB/s eta 0:00:13|████████████████████████████▎   | 646.7 MB 6.8 MB/s eta 0:00:13████████▌   | 652.1 MB 775 kB/s eta 0:01:43��███████████████████▋   | 653.3 MB 5.6 MB/s eta 0:00:15��███████████████████▉   | 659.9 MB 5.6 MB/s eta 0:00:13.2 MB 5.6 MB/s eta 0:00:13��████████████████▉   | 660.5 MB 5.6 MB/s eta 0:00:13█████████   | 664.5 MB 1.0 MB/s eta 0:01:06    |█████████████████████████████▏  | 666.3 MB 1.0 MB/s eta 0:01:04█████████████████████████████▋  | 677.5 MB 9.6 MB/s eta 0:00:06��██████████████▏ | 690.9 MB 10.4 MB/s eta 0:00:04█████▎ | 692.7 MB 986 kB/s eta 0:00:403 MB 986 kB/s eta 0:00:39�██ | 706.4 MB 10.9 MB/s eta 0:00:03█████████████████████████████ | 706.7 MB 10.9 MB/s eta 0:00:03�█████████████████████████▌| 719.9 MB 6.8 MB/s eta 0:00:02\n",
            "\u001b[?25hCollecting nvidia-cufft-cu12==11.0.2.54; platform_system == \"Linux\" and platform_machine == \"x86_64\"\n",
            "  Downloading nvidia_cufft_cu12-11.0.2.54-py3-none-manylinux1_x86_64.whl (121.6 MB)\n",
            "\u001b[K     |████████████████████████████████| 121.6 MB 8.1 MB/s eta 0:00:011██▏                             | 8.1 MB 3.8 MB/s eta 0:00:30     |██████▌                         | 24.6 MB 3.5 MB/s eta 0:00:28██▊                         | 25.4 MB 3.5 MB/s eta 0:00:28| 27.4 MB 3.5 MB/s eta 0:00:27MB/s eta 0:00:12�███████████                | 60.8 MB 8.4 MB/s eta 0:00:08��██              | 68.2 MB 8.4 MB/s eta 0:00:07[K     |██████████████████▏             | 69.2 MB 10.1 MB/s eta 0:00:06████████████████████▍           | 77.4 MB 698 kB/s eta 0:01:04��████████████████▌           | 77.8 MB 698 kB/s eta 0:01:03��        | 88.9 MB 6.9 MB/s eta 0:00:05��        | 91.3 MB 6.9 MB/s eta 0:00:05█████████████████████████████▉  | 113.4 MB 1.9 MB/s eta 0:00:05��██████████████████████████  | 113.7 MB 1.9 MB/s eta 0:00:057 MB 1.9 MB/s eta 0:00:03\n",
            "\u001b[?25hCollecting nvidia-cusparse-cu12==12.1.0.106; platform_system == \"Linux\" and platform_machine == \"x86_64\"\n",
            "  Downloading nvidia_cusparse_cu12-12.1.0.106-py3-none-manylinux1_x86_64.whl (196.0 MB)\n",
            "\u001b[K     |████████████████████████████████| 196.0 MB 107 kB/s eta 0:00:014645 kB 12.9 MB/s eta 0:00:16     |█                               | 6.8 MB 12.9 MB/s eta 0:00:1511.4 MB 3.5 MB/s eta 0:00:54                   | 21.1 MB 12.5 MB/s eta 0:00:15��█████▍               | 100.5 MB 8.7 MB/s eta 0:00:11  | 102.0 MB 8.7 MB/s eta 0:00:11     |██████████████████▋             | 113.8 MB 9.0 MB/s eta 0:00:10   | 119.1 MB 9.2 MB/s eta 0:00:09  |███████████████████████▌        | 143.7 MB 6.1 MB/s eta 0:00:09 | 160.4 MB 5.8 MB/s eta 0:00:07�████████▉     | 164.6 MB 614 kB/s eta 0:00:52��███████████████████▏   | 172.4 MB 7.9 MB/s eta 0:00:03��█████████████████████████▏  | 178.5 MB 7.9 MB/s eta 0:00:03    |█████████████████████████████▊  | 182.0 MB 9.9 MB/s eta 0:00:02    |██████████████████████████████  | 183.1 MB 9.9 MB/s eta 0:00:02███████▌| 193.1 MB 7.6 MB/s eta 0:00:01\n",
            "\u001b[?25hCollecting networkx\n",
            "  Downloading networkx-3.1-py3-none-any.whl (2.1 MB)\n",
            "\u001b[K     |███████████████████�████████████| 2.1 MB 5.7 MB/s eta 0:00:010:00:01��████████████| 2.1 MB 5.7 MB/s \n",
            "\u001b[?25hRequirement already satisfied: sympy in /home/jonathan/.local/lib/python3.8/site-packages (from torch>=1.6.0->sentence_transformers) (1.12)\n",
            "Collecting nvidia-curand-cu12==10.3.2.106; platform_system == \"Linux\" and platform_machine == \"x86_64\"\n",
            "  Downloading nvidia_curand_cu12-10.3.2.106-py3-none-manylinux1_x86_64.whl (56.5 MB)\n",
            "\u001b[K     |████████████████████████████████| 56.5 MB 7.5 MB/s eta 0:00:011▍                             | 4.2 MB 9.4 MB/s eta 0:00:06 MB 8.7 MB/s eta 0:00:05██▎                   | 21.8 MB 8.7 MB/s eta 0:00:05██▊                   | 22.5 MB 8.7 MB/s eta 0:00:04          | 26.3 MB 7.6 MB/s eta 0:00:04/s eta 0:00:1505��███████████████████████▏      | 44.4 MB 64.0 MB/s eta 0:00:01 | 47.1 MB 64.0 MB/s eta 0:00:01B/s eta 0:00:01��███████████████   | 51.2 MB 7.5 MB/s eta 0:00:01�██▎| 55.2 MB 7.5 MB/s eta 0:00:01\n",
            "\u001b[?25hCollecting triton==2.1.0; platform_system == \"Linux\" and platform_machine == \"x86_64\"\n",
            "  Downloading triton-2.1.0-0-cp38-cp38-manylinux2014_x86_64.manylinux_2_17_x86_64.whl (89.2 MB)\n",
            "\u001b[K     |████████████████████████████████| 89.2 MB 8.9 MB/s eta 0:00:011                             | 737 kB 9.1 MB/s eta 0:00:10               | 2.3 MB 9.1 MB/s eta 0:00:10                              | 2.9 MB 9.1 MB/s eta 0:00:105.9 MB 9.1 MB/s eta 0:00:10  | 6.4 MB 9.1 MB/s eta 0:00:1009                         | 9.0 MB 9.1 MB/s eta 0:00:090:10                    | 11.9 MB 8.7 MB/s eta 0:00:09                    | 13.0 MB 8.7 MB/s eta 0:00:09MB/s eta 0:00:09                  | 15.7 MB 8.7 MB/s eta 0:00:09██▊                         | 18.9 MB 3.8 MB/s eta 0:00:19 MB 3.8 MB/s eta 0:00:18 MB 3.8 MB/s eta 0:00:18��██▏                       | 22.7 MB 3.8 MB/s eta 0:00:18                    | 23.8 MB 3.8 MB/s eta 0:00:18��████▋                       | 24.1 MB 561 kB/s eta 0:01:57| 24.5 MB 561 kB/s eta 0:01:56█████████                       | 25.0 MB 561 kB/s eta 0:01:55 MB 561 kB/s eta 0:01:50��████▌                     | 29.3 MB 561 kB/s eta 0:01:47��████▊                     | 30.0 MB 561 kB/s eta 0:01:46kB/s eta 0:01:44  | 32.1 MB 561 kB/s eta 0:01:42███████████                 | 41.8 MB 4.6 MB/s eta 0:00:11�██████████▉                | 44.1 MB 4.6 MB/s eta 0:00:10     |█████████████████▎              | 48.2 MB 8.4 MB/s eta 0:00:05MB/s eta 0:00:05��██▎           | 56.6 MB 8.7 MB/s eta 0:00:04:00:05��        | 65.6 MB 6.5 MB/s eta 0:00:04.0 MB 6.5 MB/s eta 0:00:04███████████████████████▎      | 70.4 MB 4.5 MB/s eta 0:00:05MB/s eta 0:00:03��██████████████▎   | 78.7 MB 5.2 MB/s eta 0:00:03��██████████████▋   | 79.9 MB 5.2 MB/s eta 0:00:02��███████████████   | 80.7 MB 5.2 MB/s eta 0:00:02| 81.1 MB 5.2 MB/s eta 0:00:02 MB 10.8 MB/s eta 0:00:01 MB 10.8 MB/s eta 0:00:01\n",
            "\u001b[?25hCollecting nvidia-cublas-cu12==12.1.3.1; platform_system == \"Linux\" and platform_machine == \"x86_64\"\n",
            "  Downloading nvidia_cublas_cu12-12.1.3.1-py3-none-manylinux1_x86_64.whl (410.6 MB)\n",
            "\u001b[K     |████████████████████████████████| 410.6 MB 15 kB/s s eta 0:00:01 eta 0:00:51B/s eta 0:00:51[K     |▉                               | 10.8 MB 5.5 MB/s eta 0:01:1324.4 MB 8.3 MB/s eta 0:00:47                          | 25.0 MB 8.3 MB/s eta 0:00:4729.9 MB 10.6 MB/s eta 0:00:36                       | 31.3 MB 10.6 MB/s eta 0:00:36                       | 32.3 MB 10.9 MB/s eta 0:00:3538.0 MB 10.9 MB/s eta 0:00:35              | 40.0 MB 10.9 MB/s eta 0:00:35 MB 11.1 MB/s eta 0:00:33 MB 11.1 MB/s eta 0:00:33 MB 11.1 MB/s eta 0:00:33 MB 11.1 MB/s eta 0:00:334 MB/s eta 0:00:49      | 53.9 MB 7.4 MB/s eta 0:00:48                    | 55.7 MB 7.4 MB/s eta 0:00:48                    | 59.5 MB 9.5 MB/s eta 0:00:37                    | 61.0 MB 9.5 MB/s eta 0:00:37                    | 65.5 MB 9.5 MB/s eta 0:00:37�████▏                          | 66.0 MB 9.5 MB/s eta 0:00:37MB/s eta 0:00:45MB/s eta 0:00:45MB/s eta 0:00:44MB/s eta 0:00:44    | 78.5 MB 5.4 MB/s eta 0:01:02██▏                         | 79.3 MB 5.4 MB/s eta 0:01:02            | 81.0 MB 5.4 MB/s eta 0:01:02██▋                         | 85.1 MB 5.4 MB/s eta 0:01:011131 MB 6.8 MB/s eta 0:00:47█████▍                        | 94.9 MB 6.8 MB/s eta 0:00:47 MB 6.8 MB/s eta 0:00:46                  | 97.4 MB 6.8 MB/s eta 0:00:4659     |████████▍                       | 107.2 MB 299 kB/s eta 0:16:55523:524:44.0 MB 1.0 MB/s eta 0:04:43          | 119.9 MB 10.6 MB/s eta 0:00:28��███▌                      | 121.6 MB 10.6 MB/s eta 0:00:28               | 127.5 MB 7.4 MB/s eta 0:00:39               | 128.9 MB 7.4 MB/s eta 0:00:38    |██████████▏                     | 130.5 MB 7.4 MB/s eta 0:00:38    |██████████▎                     | 131.8 MB 7.4 MB/s eta 0:00:38    |██████████▍                     | 133.4 MB 7.4 MB/s eta 0:00:38�████████▍                     | 133.9 MB 7.4 MB/s eta 0:00:38█████▌                     | 134.3 MB 7.4 MB/s eta 0:00:38    |██████████▋                     | 135.8 MB 7.4 MB/s eta 0:00:37    |██████████▋                     | 136.8 MB 7.7 MB/s eta 0:00:36      | 143.4 MB 7.7 MB/s eta 0:00:35              | 145.7 MB 11.1 MB/s eta 0:00:241 MB/s eta 0:00:24    | 148.7 MB 11.1 MB/s eta 0:00:24█▉                    | 152.1 MB 11.1 MB/s eta 0:00:24��████████▋                   | 162.4 MB 6.2 MB/s eta 0:00:40��████████▊                   | 163.6 MB 6.2 MB/s eta 0:00:40        | 169.9 MB 12.4 MB/s eta 0:00:204 MB/s eta 0:00:20        | 172.0 MB 12.4 MB/s eta 0:00:20     |█████████████▌                  | 172.8 MB 12.4 MB/s eta 0:00:20        | 173.2 MB 12.4 MB/s eta 0:00:204.5 MB/s eta 0:00:53███▉                 | 190.3 MB 9.9 MB/s eta 0:00:23████                 | 193.7 MB 9.9 MB/s eta 0:00:22/s eta 0:00:14/s eta 0:00:140.4 MB 15.6 MB/s eta 0:00:14/s eta 0:00:14/s eta 0:00:14��▏               | 207.1 MB 10.0 MB/s eta 0:00:21��▍               | 209.9 MB 10.0 MB/s eta 0:00:21     |████████████████▌               | 211.3 MB 10.0 MB/s eta 0:00:20��█████████████▏              | 220.1 MB 13.2 MB/s eta 0:00:15��█████████████▎              | 221.2 MB 13.2 MB/s eta 0:00:15��█████████████▍              | 223.0 MB 13.2 MB/s eta 0:00:15��█████████████▌              | 225.1 MB 13.2 MB/s eta 0:00:15��█████████████▉              | 228.2 MB 12.6 MB/s eta 0:00:15�▉              | 228.6 MB 12.6 MB/s eta 0:00:15MB/s eta 0:00:15MB/s eta 0:00:15MB/s eta 0:00:16MB/s eta 0:00:16��            | 245.4 MB 11.2 MB/s eta 0:00:15    | 245.7 MB 11.2 MB/s eta 0:00:15�███████▎            | 246.8 MB 7.9 MB/s eta 0:00:21MB 7.9 MB/s eta 0:00:21   | 248.7 MB 7.9 MB/s eta 0:00:21��██████████████████▍            | 249.0 MB 7.9 MB/s eta 0:00:21   | 251.0 MB 7.9 MB/s eta 0:00:21   | 252.3 MB 7.9 MB/s eta 0:00:20��██████████████████▊            | 252.7 MB 7.9 MB/s eta 0:00:20�███████▉            | 254.8 MB 7.9 MB/s eta 0:00:20MB 7.9 MB/s eta 0:00:20████████████████            | 255.5 MB 7.9 MB/s eta 0:00:20█            | 255.9 MB 7.9 MB/s eta 0:00:20 MB 7.9 MB/s eta 0:00:20�████████████████            | 257.3 MB 7.9 MB/s eta 0:00:20██████████████▌           | 263.4 MB 11.6 MB/s eta 0:00:13███████████████           | 268.7 MB 12.9 MB/s eta 0:00:11███████████████           | 270.1 MB 12.9 MB/s eta 0:00:11:00:11MB 6.7 MB/s eta 0:00:19MB 6.7 MB/s eta 0:00:19█▉         | 293.6 MB 8.8 MB/s eta 0:00:14�█████████████████         | 293.9 MB 8.8 MB/s eta 0:00:14     |███████████████████████         | 294.1 MB 8.8 MB/s eta 0:00:14�███████████        | 307.6 MB 10.2 MB/s eta 0:00:11████████████████████        | 307.9 MB 10.2 MB/s eta 0:00:11��████████████████▌       | 314.9 MB 9.7 MB/s eta 0:00:10��████████████████▊       | 316.8 MB 9.7 MB/s eta 0:00:108.2 MB 9.7 MB/s eta 0:00:10███████████████▉       | 318.6 MB 9.7 MB/s eta 0:00:10��█████████████████       | 322.1 MB 9.7 MB/s eta 0:00:10MB/s eta 0:00:07MB/s eta 0:00:07MB/s eta 0:00:07�████████▏     | 336.3 MB 8.6 MB/s eta 0:00:099��████████▎     | 337.0 MB 8.6 MB/s eta 0:00:09 | 340.9 MB 8.6 MB/s eta 0:00:09�████████▉     | 343.8 MB 8.6 MB/s eta 0:00:08 | 344.6 MB 9.1 MB/s eta 0:00:08��████████▎    | 350.0 MB 9.1 MB/s eta 0:00:07��████████▌    | 352.5 MB 9.1 MB/s eta 0:00:07��████████▋    | 354.8 MB 9.1 MB/s eta 0:00:07��█████████████▉    | 356.7 MB 11.8 MB/s eta 0:00:05��██████████████    | 357.9 MB 11.8 MB/s eta 0:00:05��██████████████    | 360.3 MB 11.8 MB/s eta 0:00:05██████████████████▍   | 364.7 MB 11.8 MB/s eta 0:00:04��████▍   | 365.0 MB 11.8 MB/s eta 0:00:04████████▋   | 367.7 MB 9.4 MB/s eta 0:00:05    |█████████████████████████████▎  | 375.2 MB 9.4 MB/s eta 0:00:04ta 0:00:01ta 0:00:01�█▎ | 388.0 MB 37.4 MB/s eta 0:00:01     |██████████████████████████████▋ | 393.2 MB 8.7 MB/s eta 0:00:034 MB 8.7 MB/s eta 0:00:029 MB 8.7 MB/s eta 0:00:025 MB 8.7 MB/s eta 0:00:02███████▏| 399.7 MB 8.7 MB/s eta 0:00:02��███████████▌| 403.9 MB 13.5 MB/s eta 0:00:01��███████████▉| 407.8 MB 13.5 MB/s eta 0:00:01�████████████▉| 408.1 MB 13.5 MB/s eta 0:00:01��████████████| 410.0 MB 13.5 MB/s eta 0:00:01\n",
            "\u001b[?25hRequirement already satisfied: pillow!=8.3.*,>=5.3.0 in /usr/lib/python3/dist-packages (from torchvision->sentence_transformers) (7.0.0)\n",
            "Collecting safetensors>=0.3.1\n",
            "  Downloading safetensors-0.4.0-cp38-cp38-manylinux_2_17_x86_64.manylinux2014_x86_64.whl (1.3 MB)\n",
            "\u001b[K     |████████████████████████████████| 1.3 MB 529 kB/s eta 0:00:01a 0:00:020:01��███████████████████▎   | 1.2 MB 529 kB/s eta 0:00:01\n",
            "\u001b[?25hRequirement already satisfied: tokenizers<0.15,>=0.14 in /home/jonathan/.local/lib/python3.8/site-packages (from transformers<5.0.0,>=4.6.0->sentence_transformers) (0.14.1)\n",
            "Requirement already satisfied: idna<4,>=2.5 in /usr/lib/python3/dist-packages (from requests->huggingface-hub>=0.4.0->sentence_transformers) (2.8)\n",
            "Requirement already satisfied: urllib3<3,>=1.21.1 in /usr/lib/python3/dist-packages (from requests->huggingface-hub>=0.4.0->sentence_transformers) (1.25.8)\n",
            "Requirement already satisfied: certifi>=2017.4.17 in /usr/lib/python3/dist-packages (from requests->huggingface-hub>=0.4.0->sentence_transformers) (2019.11.28)\n",
            "Requirement already satisfied: charset-normalizer<4,>=2 in /home/jonathan/.local/lib/python3.8/site-packages (from requests->huggingface-hub>=0.4.0->sentence_transformers) (3.3.0)\n",
            "Collecting MarkupSafe>=2.0\n",
            "  Downloading MarkupSafe-2.1.3-cp38-cp38-manylinux_2_17_x86_64.manylinux2014_x86_64.whl (25 kB)\n",
            "Collecting nvidia-nvjitlink-cu12\n",
            "  Downloading nvidia_nvjitlink_cu12-12.3.52-py3-none-manylinux1_x86_64.whl (20.5 MB)\n",
            "\u001b[K     |████████████████████████████████| 20.5 MB 3.7 MB/s eta 0:00:011           | 2.3 MB 11.0 MB/s eta 0:00:023.3 MB 11.0 MB/s eta 0:00:02��████▌                       | 5.5 MB 11.0 MB/s eta 0:00:02| 9.2 MB 11.0 MB/s eta 0:00:02█████▍        | 15.0 MB 11.9 MB/s eta 0:00:01��███▋    | 17.7 MB 3.7 MB/s eta 0:00:01MB/s eta 0:00:01��██▋   | 18.4 MB 3.7 MB/s eta 0:00:01��█████████████   | 18.7 MB 3.7 MB/s eta 0:00:01\n",
            "\u001b[?25hRequirement already satisfied: mpmath>=0.19 in /home/jonathan/.local/lib/python3.8/site-packages (from sympy->torch>=1.6.0->sentence_transformers) (1.3.0)\n",
            "Building wheels for collected packages: sentence-transformers\n",
            "  Building wheel for sentence-transformers (setup.py) ... \u001b[?25ldone\n",
            "\u001b[?25h  Created wheel for sentence-transformers: filename=sentence_transformers-2.2.2-py3-none-any.whl size=125922 sha256=34b803b8747d326d5f6f87db679984c0e39644fd3c8885fdbb5649112df61b33\n",
            "  Stored in directory: /home/jonathan/.cache/pip/wheels/5e/6f/8c/d88aec621f3f542d26fac0342bef5e693335d125f4e54aeffe\n",
            "Successfully built sentence-transformers\n",
            "Installing collected packages: joblib, regex, nltk, threadpoolctl, scikit-learn, sentencepiece, MarkupSafe, jinja2, nvidia-nccl-cu12, nvidia-nvjitlink-cu12, nvidia-cublas-cu12, nvidia-cusparse-cu12, nvidia-cusolver-cu12, nvidia-cuda-nvrtc-cu12, nvidia-cuda-runtime-cu12, nvidia-nvtx-cu12, nvidia-cuda-cupti-cu12, nvidia-cudnn-cu12, nvidia-cufft-cu12, networkx, nvidia-curand-cu12, triton, torch, torchvision, safetensors, transformers, sentence-transformers\n"
          ]
        }
      ],
      "source": [
        "!pip install chromadb\n",
        "!pip install sentence_transformers"
      ]
    },
    {
      "cell_type": "code",
      "execution_count": null,
      "metadata": {
        "id": "2jRB6ss4oZ8f"
      },
      "outputs": [],
      "source": [
        "!pip install transformers"
      ]
    },
    {
      "cell_type": "code",
      "execution_count": null,
      "metadata": {
        "id": "4dDaMVq8oY1w"
      },
      "outputs": [],
      "source": [
        "from transformers import BertTokenizer\n",
        "from transformers import AutoModel\n",
        "\n",
        "model = AutoModel.from_pretrained('neuralmind/bert-base-portuguese-cased')\n",
        "tokenizer = BertTokenizer.from_pretrained('neuralmind/bert-base-portuguese-cased')"
      ]
    },
    {
      "cell_type": "code",
      "execution_count": 13,
      "metadata": {
        "id": "wAmwloH4DhQl"
      },
      "outputs": [],
      "source": [
        "import chromadb\n",
        "\n",
        "chroma_client = chromadb.Client()\n",
        "\n",
        "collection = chroma_client.create_collection(name=\"textos\")"
      ]
    },
    {
      "cell_type": "code",
      "execution_count": 44,
      "metadata": {
        "id": "q3EiTwF_Qj6I"
      },
      "outputs": [],
      "source": [
        "tokens = []\n",
        "embeddings = []\n",
        "documents = []\n",
        "\n",
        "for i in range(5):\n",
        "  embeddings.append(model(tokenizer.encode(texts[i].page_content, return_tensors=\"pt\")).pooler_output.tolist()[0])\n",
        "  documents.append(texts[i].page_content)\n"
      ]
    },
    {
      "cell_type": "code",
      "execution_count": null,
      "metadata": {
        "id": "nSc3awtHQ-tH"
      },
      "outputs": [],
      "source": [
        "print(embeddings[0])"
      ]
    },
    {
      "cell_type": "code",
      "execution_count": null,
      "metadata": {
        "id": "iAkuile6t5XC"
      },
      "outputs": [],
      "source": [
        "tokens = [tokenizer.encode(x.page_content, return_tensors=\"pt\") for x in texts]\n",
        "embeddings = [model(x).pooler_output.tolist()[0] for x in tokens]\n",
        "documents = [x.page_content for x in texts]"
      ]
    },
    {
      "cell_type": "code",
      "execution_count": null,
      "metadata": {
        "id": "B2WbKiNkuq96"
      },
      "outputs": [],
      "source": [
        "for i in range(5):\n",
        "  print(embeddings[i])\n",
        "  print(len(embeddings))"
      ]
    },
    {
      "cell_type": "code",
      "execution_count": 46,
      "metadata": {
        "id": "NFDN33-5txso"
      },
      "outputs": [],
      "source": [
        "collection.add(\n",
        "    embeddings = embeddings,\n",
        "    documents = documents,\n",
        "    metadatas=[{\"source\": \"my_source\"} for i in range(len(embeddings))],\n",
        "    ids=[str(i) for i in range(len(documents))]\n",
        ")"
      ]
    },
    {
      "cell_type": "markdown",
      "metadata": {
        "id": "1KUGhVR2T6JF"
      },
      "source": [
        "# Recuperar textos por query"
      ]
    },
    {
      "cell_type": "code",
      "execution_count": 60,
      "metadata": {
        "colab": {
          "base_uri": "https://localhost:8080/"
        },
        "id": "cOhxxw5-T5v8",
        "outputId": "886c44f3-d0b7-4e06-bdec-cdc992a17312"
      },
      "outputs": [
        {
          "name": "stderr",
          "output_type": "stream",
          "text": [
            "WARNING:chromadb.segment.impl.vector.local_hnsw:Number of requested results 10 is greater than number of elements in index 5, updating n_results = 5\n"
          ]
        }
      ],
      "source": [
        "queryText = \"Qual time da NFL representou o AFC no Super Bowl 50?\"\n",
        "\n",
        "input_id = tokenizer.encode(queryText, return_tensors = 'pt')\n",
        "\n",
        "queryEmbed = model(input_id).pooler_output.tolist()[0]\n",
        "\n",
        "results = collection.query(\n",
        "    query_embeddings = [queryEmbed],\n",
        "    n_results=10\n",
        ")"
      ]
    },
    {
      "cell_type": "code",
      "execution_count": 61,
      "metadata": {
        "colab": {
          "base_uri": "https://localhost:8080/"
        },
        "id": "u8pKohjGU8oB",
        "outputId": "e18d7e59-ea88-462d-9af6-a4ef74366f77"
      },
      "outputs": [
        {
          "name": "stdout",
          "output_type": "stream",
          "text": [
            "Game. Eles se juntaram aos Patriots, Dallas Cowboys e Pittsburgh Steelers como um dos quatro times que fizeram oito aparições no Super Bowl.\n",
            "\n",
            "Os Panteras terminaram a temporada regular com um recorde de 15-1, e o quarterback Cam Newton foi nomeado o Jogador Mais Valioso da NFL (MVP). Eles derrotaram os Arizona Cardinals por 49 a 15 no NFC Championship Game e avançaram para sua segunda apresentação no Super Bowl desde que a franquia foi fundada em 1995. Os Broncos terminaram a temporada regular com um recorde de 12-4 e negaram ao New England Patriots uma chance para defender seu título do Super Bowl XLIX, derrotando-os 20-18 no AFC Championship\n",
            "\n",
            "Os Broncos assumiram uma liderança inicial no Super Bowl 50 e nunca se arrastaram. Newton foi limitado pela defesa de Denver, que o demitiu sete vezes e forçou-o em três turnovers, incluindo um fumble que eles recuperaram para um touchdown. O linebacker de Denver, Von Miller, foi nomeado MVP do Super Bowl, registrando cinco tackles individuais, 2 ½ sacas e dois fumbles forçados.\n",
            "\n",
            "Super Bowl 50 foi um jogo de futebol americano para determinar o campeão da National Football League (NFL) para a temporada de 2015. O campeão da American Football Conference (AFC), Denver Broncos, derrotou a campeã Carolina Panthers, da National Football Conference (NFC), por 24 a 10, e conquistou seu terceiro título no Super Bowl. O jogo foi disputado em 7 de fevereiro de 2016, no Levi&#39;s Stadium, na área da baía de San Francisco, em Santa Clara, Califórnia. Como este foi o 50º Super Bowl, a liga\n",
            "\n",
            "enfatizou o &quot;aniversário de ouro&quot; com várias iniciativas de ouro, bem como a suspensão temporária da tradição de nomear cada jogo do Super Bowl com algarismos romanos (sob os quais o jogo seria conhecido como &quot; Super Bowl L &quot;), para que o logotipo possa destacar os algarismos arábicos 50.\n",
            "\n"
          ]
        }
      ],
      "source": [
        "for x in results['documents'][0]:\n",
        "  print(x)\n",
        "  print()"
      ]
    },
    {
      "cell_type": "code",
      "execution_count": null,
      "metadata": {
        "id": "XRw9wn-TAd7q"
      },
      "outputs": [],
      "source": [
        "# Medir a precissão da recuperação"
      ]
    }
  ],
  "metadata": {
    "colab": {
      "provenance": []
    },
    "kernelspec": {
      "display_name": "Python 3",
      "name": "python3"
    },
    "language_info": {
      "codemirror_mode": {
        "name": "ipython",
        "version": 3
      },
      "file_extension": ".py",
      "mimetype": "text/x-python",
      "name": "python",
      "nbconvert_exporter": "python",
      "pygments_lexer": "ipython3",
      "version": "3.8.10"
    }
  },
  "nbformat": 4,
  "nbformat_minor": 0
}
